{
 "cells": [
  {
   "cell_type": "code",
   "id": "initial_id",
   "metadata": {
    "collapsed": true,
    "ExecuteTime": {
     "end_time": "2025-10-24T10:24:58.954542Z",
     "start_time": "2025-10-24T10:24:57.244552Z"
    }
   },
   "source": [
    "import numpy as np\n",
    "import pandas as pd\n",
    "import matplotlib.pyplot as plt\n",
    "from sklearn.metrics import classification_report, roc_curve, auc\n",
    "from sklearn.model_selection import train_test_split, cross_val_score, cross_val_predict\n",
    "from imblearn.pipeline import Pipeline\n",
    "from sklearn.preprocessing import StandardScaler\n",
    "from sklearn.svm import SVC"
   ],
   "outputs": [],
   "execution_count": 1
  },
  {
   "metadata": {},
   "cell_type": "markdown",
   "source": "### Problem Overview",
   "id": "47c849f8ea485c35"
  },
  {
   "metadata": {},
   "cell_type": "markdown",
   "source": [
    "The goal is to build a model that can predict whether a patient has heart with hypertrophic cardiomyopathy based on features such as:\n",
    "- lung width\n",
    "- heart width\n",
    "- cr ratio\n",
    "- interia tensors\n",
    "- inscribed circle radius\n",
    "- polygon area ratio\n",
    "- heart perimeter\n",
    "- heart area\n",
    "- lung area\n",
    "\n",
    "Each row in the dataset represents one patient, and the target column — \"Cardiomegaly\" — indicates the outcome:\n",
    "\n",
    "1 → positive diagnosis (diseased heart)\n",
    "\n",
    "0 → negative diagnosis (healthy heart)"
   ],
   "id": "a0e65f06378731df"
  },
  {
   "metadata": {},
   "cell_type": "code",
   "outputs": [],
   "execution_count": null,
   "source": "",
   "id": "38138e5a1b26f67"
  }
 ],
 "metadata": {
  "kernelspec": {
   "display_name": "Python 3",
   "language": "python",
   "name": "python3"
  },
  "language_info": {
   "codemirror_mode": {
    "name": "ipython",
    "version": 2
   },
   "file_extension": ".py",
   "mimetype": "text/x-python",
   "name": "python",
   "nbconvert_exporter": "python",
   "pygments_lexer": "ipython2",
   "version": "2.7.6"
  }
 },
 "nbformat": 4,
 "nbformat_minor": 5
}
